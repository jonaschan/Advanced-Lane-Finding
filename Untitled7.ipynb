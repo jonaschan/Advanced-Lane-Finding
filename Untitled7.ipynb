{
 "cells": [
  {
   "cell_type": "code",
   "execution_count": null,
   "metadata": {
    "collapsed": true
   },
   "outputs": [],
   "source": [
    "def lane_detection_pipeline(raw_image):\n",
    "    camera_calibration_parameters = start_camera_calibration()\n",
    "    undistorted_image = undistorted_road_image(raw_image, camera_calibration_parameters)\n",
    "    warped_image = warp(undistorted_image)\n",
    "    thresholded_image = thresholding_type_select(\"sobel_magnitude\",\n",
    "                                                 warped_image,\n",
    "                                                 30, 100, 15)\n",
    "    final_image = start_lane_detection(thresholded_image)\n",
    "    \n",
    "    return final_image"
   ]
  }
 ],
 "metadata": {
  "kernelspec": {
   "display_name": "Python 3",
   "language": "python",
   "name": "python3"
  },
  "language_info": {
   "codemirror_mode": {
    "name": "ipython",
    "version": 3
   },
   "file_extension": ".py",
   "mimetype": "text/x-python",
   "name": "python",
   "nbconvert_exporter": "python",
   "pygments_lexer": "ipython3",
   "version": "3.5.2"
  },
  "widgets": {
   "state": {},
   "version": "1.1.2"
  }
 },
 "nbformat": 4,
 "nbformat_minor": 2
}
